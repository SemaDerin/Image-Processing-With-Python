{
 "cells": [
  {
   "cell_type": "markdown",
   "id": "44684bd1",
   "metadata": {},
   "source": [
    "# Spatial Filtering LOW-PASS FILTER"
   ]
  },
  {
   "cell_type": "markdown",
   "id": "e4a5e1e9",
   "metadata": {},
   "source": [
    "Filtreleme terimi bit fotoğraftaki belirli frekansaları geçiren belirli frekanasları geçirmeyen veya belirli frekansları modifiye eden yapılara denir. Peki nedir frekans? Fotoğraflar için frekans fotoğraftaki piksel değerlerinin değişme hızı diyebiliriz. (ani değişimler). Yüksek frekansların değerlerini geçiren filtrelere High Pass Filter denir. Düşük frekans değerlerini geçiren filtrelere ise Low Pass Filter adı verilir."
   ]
  },
  {
   "cell_type": "markdown",
   "id": "5a66c18a",
   "metadata": {},
   "source": [
    "Filtreleme işlemi elimizde bir filtre var. (3x3 matris olduğunu düşünebiliriz.) Bu filtredeki her bir eleman bir katsayıya sahiptir. Filtrenin (0,0) koordinatı tam ortasıdır ve diğer noktalar bu koordinata göre konumlanır. Filteyi fotoğrafa uygulama işleminde filtremizi piksel piksel kaydırıyoruz. Fotoğrafımızın yoğunluk değerlerlerini filtremizin üzerindeki katsayı değeriyle çarpıyoruz. Ve filtremizin görevi ne ise ona göre bir işlem uygulayıp fotoğrafımızda hangi piksel üzerinde işlem yapıyorsak oradaki yoğunluk değerini güncelliyoruz. (Fotoğrafımızın üzerinde işlem yapacağımız pikseli filtremizin orta noktası ile çarpıyoruz ve filtrenin diğer değerleri de fotoğrafımızın hangi piksel değerlerinin üzerine gelirse onunla çarpıyoruz.)"
   ]
  },
  {
   "cell_type": "markdown",
   "id": "68caddd5",
   "metadata": {},
   "source": [
    "Low Pass Filter:\n",
    " Düşük geçiren filtre, aynı zamanda yumuşatan ya da ortalama alan filtre olarak da geçer, bu filtre piksel değerlerindeki hızlı geçişleri azaltan bir filtredir. Bazı fotoğraflarda bulunan rastgele gürültü genellikle pikseldeki keskin geçişleriden kaynaklanır. Bu filtrenin kullanım amacı fotoğraflardaki bu gürültüden kurtulmak. Yumuşatıcı filtre alakasız değerlerden kurtulmak için de kullanılır, buradaki alakasız değer olarak bahsettiğimiz şey fotoğraflardaki kullanılacak filtrenin boyutundan küçük olan piksel bölgeleridir. \n",
    " \n",
    " Filtreleme işlemleri lineer ve lineer olmayan olarak ikiye ayrılır.\n",
    " \n",
    " Bir yumuşatıcı filtre ile bir fotoğrafın üzerinde konvolüsyon ya da korelasyın işlemi yapıldığında o fotoğrafın blurlaştığını görürüz. Bu blurlaşma işleminin seviyesi filtre boyutu ve filtre katsayılarına bağlı olarak değişir.\n",
    " \n",
    " \n",
    "    "
   ]
  },
  {
   "cell_type": "markdown",
   "id": "d3a5d714",
   "metadata": {},
   "source": [
    "# BoxKernel"
   ]
  },
  {
   "cell_type": "code",
   "execution_count": 2,
   "id": "0023e770",
   "metadata": {},
   "outputs": [],
   "source": [
    "import cv2\n",
    "import numpy as np\n",
    "import matplotlib.pyplot as plt"
   ]
  },
  {
   "cell_type": "code",
   "execution_count": 6,
   "id": "790e0d69",
   "metadata": {},
   "outputs": [],
   "source": [
    "def create_box_filter(m,n,value):\n",
    "    box_filter= np.full((m,n),value)\n",
    "    return box_filter/box_filter.sum()    "
   ]
  },
  {
   "cell_type": "code",
   "execution_count": 7,
   "id": "eb709549",
   "metadata": {},
   "outputs": [
    {
     "data": {
      "text/plain": [
       "array([[0.11111111, 0.11111111, 0.11111111],\n",
       "       [0.11111111, 0.11111111, 0.11111111],\n",
       "       [0.11111111, 0.11111111, 0.11111111]])"
      ]
     },
     "execution_count": 7,
     "metadata": {},
     "output_type": "execute_result"
    }
   ],
   "source": [
    "m=n=3\n",
    "value=1\n",
    "create_box_filter(m,n,value)"
   ]
  },
  {
   "cell_type": "code",
   "execution_count": null,
   "id": "556687a5",
   "metadata": {},
   "outputs": [],
   "source": [
    "def create_gauss_filter(m,n,K,sigma):\n",
    "    "
   ]
  },
  {
   "cell_type": "code",
   "execution_count": null,
   "id": "baffb268",
   "metadata": {},
   "outputs": [],
   "source": []
  }
 ],
 "metadata": {
  "kernelspec": {
   "display_name": "Python 3 (ipykernel)",
   "language": "python",
   "name": "python3"
  },
  "language_info": {
   "codemirror_mode": {
    "name": "ipython",
    "version": 3
   },
   "file_extension": ".py",
   "mimetype": "text/x-python",
   "name": "python",
   "nbconvert_exporter": "python",
   "pygments_lexer": "ipython3",
   "version": "3.9.7"
  }
 },
 "nbformat": 4,
 "nbformat_minor": 5
}
