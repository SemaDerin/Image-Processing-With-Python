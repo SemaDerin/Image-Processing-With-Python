{
 "cells": [
  {
   "cell_type": "markdown",
   "id": "c93d736a",
   "metadata": {},
   "source": [
    "# OpenCv"
   ]
  },
  {
   "cell_type": "markdown",
   "id": "15db7e2e",
   "metadata": {},
   "source": [
    "Firstly, we import OpenCv Library"
   ]
  },
  {
   "cell_type": "code",
   "execution_count": 3,
   "id": "90f8ef24",
   "metadata": {},
   "outputs": [],
   "source": [
    "import cv2 \n",
    "import numpy as np"
   ]
  },
  {
   "cell_type": "markdown",
   "id": "61a2be75",
   "metadata": {},
   "source": [
    "Image processing is called processing digital photos using a computer.\n",
    "We use OpenCv.\n",
    "If we want to upload our photo to the Python environment, we will use the imread command."
   ]
  },
  {
   "cell_type": "code",
   "execution_count": 4,
   "id": "dc821530",
   "metadata": {},
   "outputs": [],
   "source": [
    "image = cv2.imread(\"sunflower.jpg\")"
   ]
  },
  {
   "cell_type": "markdown",
   "id": "e1d5e909",
   "metadata": {},
   "source": [
    "for height width and channel information (shape) first channel is blue, second green and third is red"
   ]
  },
  {
   "cell_type": "code",
   "execution_count": 5,
   "id": "a78f2279",
   "metadata": {},
   "outputs": [
    {
     "name": "stdout",
     "output_type": "stream",
     "text": [
      "(837, 1200, 3)\n"
     ]
    }
   ],
   "source": [
    "print(image.shape)"
   ]
  },
  {
   "cell_type": "markdown",
   "id": "4625ad7b",
   "metadata": {},
   "source": [
    "We can learn the pixel values by manually entering the coordinate values.\n",
    "In addition, the pixel values change according to the number of bits of the photo. 2^number of bits"
   ]
  },
  {
   "cell_type": "code",
   "execution_count": 6,
   "id": "c7ffa2d4",
   "metadata": {},
   "outputs": [
    {
     "name": "stdout",
     "output_type": "stream",
     "text": [
      "Intensity:  [15, 25, 1]\n"
     ]
    }
   ],
   "source": [
    "y= 15\n",
    "x=25\n",
    "channel= 1  #green\n",
    "\n",
    "intensity= [y,x,channel]\n",
    "print(\"Intensity: \",intensity)\n"
   ]
  },
  {
   "cell_type": "code",
   "execution_count": 14,
   "id": "8a752c8a",
   "metadata": {},
   "outputs": [
    {
     "name": "stdout",
     "output_type": "stream",
     "text": [
      "Max intensity is :  255\n",
      "Min intensity is :  0\n"
     ]
    }
   ],
   "source": [
    "#We can learn (with numpy) max and min intensity value\n",
    "\n",
    "max_intensity= np.max(image)\n",
    "min_intensity= np.min(image)\n",
    "\n",
    "print(\"Max intensity is : \", max_intensity)\n",
    "print(\"Min intensity is : \", min_intensity)"
   ]
  },
  {
   "cell_type": "code",
   "execution_count": 16,
   "id": "79824efb",
   "metadata": {},
   "outputs": [
    {
     "name": "stdout",
     "output_type": "stream",
     "text": [
      "[193 106  56]\n"
     ]
    }
   ],
   "source": [
    "#If we just enter the height and width information, the values for the three channels are written to the screen.\n",
    "\n",
    "print(image[x,y])"
   ]
  },
  {
   "cell_type": "code",
   "execution_count": 19,
   "id": "ecba44f1",
   "metadata": {},
   "outputs": [],
   "source": [
    "#If we want to crop part of the photo\n",
    "\n",
    "crop= image[25:500, 50:500]\n",
    "cv2.imshow(\"The Photo\", crop)\n",
    "cv2.waitKey(0)\n",
    "cv2.destroyAllWindows()"
   ]
  },
  {
   "cell_type": "code",
   "execution_count": null,
   "id": "2ee66f54",
   "metadata": {},
   "outputs": [],
   "source": []
  }
 ],
 "metadata": {
  "kernelspec": {
   "display_name": "Python 3 (ipykernel)",
   "language": "python",
   "name": "python3"
  },
  "language_info": {
   "codemirror_mode": {
    "name": "ipython",
    "version": 3
   },
   "file_extension": ".py",
   "mimetype": "text/x-python",
   "name": "python",
   "nbconvert_exporter": "python",
   "pygments_lexer": "ipython3",
   "version": "3.9.7"
  }
 },
 "nbformat": 4,
 "nbformat_minor": 5
}
